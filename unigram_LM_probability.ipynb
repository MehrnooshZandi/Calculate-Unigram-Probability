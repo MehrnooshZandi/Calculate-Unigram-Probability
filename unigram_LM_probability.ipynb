{
  "nbformat": 4,
  "nbformat_minor": 0,
  "metadata": {
    "colab": {
      "provenance": []
    },
    "kernelspec": {
      "name": "python3",
      "display_name": "Python 3"
    },
    "language_info": {
      "name": "python"
    }
  },
  "cells": [
    {
      "cell_type": "markdown",
      "source": [
        "**This function takes a sentence and gives the probability of Unigram Language Model:**"
      ],
      "metadata": {
        "id": "eRXd0bOvTn5A"
      }
    },
    {
      "cell_type": "code",
      "source": [
        "import math\n",
        "#given an input sentence the unigram LM probability is calculated\n",
        "def imogram_LM(sent):\n",
        "    prob=1\n",
        "    tmp=sent.split(' ')\n",
        "\n",
        "    for word in tmp:\n",
        "        prob=prob*get_unigram_prob(word)\n",
        "    return prob    "
      ],
      "metadata": {
        "id": "ICvNj5RnToN9"
      },
      "execution_count": null,
      "outputs": []
    },
    {
      "cell_type": "markdown",
      "source": [
        "Since probability is a number less than 1, and \n",
        "\n",
        "prob =prob*get_unigram_prob(word) \n",
        "\n",
        "is very few, we can use logarithm:"
      ],
      "metadata": {
        "id": "7n1mJpJsxgT_"
      }
    },
    {
      "cell_type": "code",
      "source": [
        "import math\n",
        "#given an input sentence the unigram LM probability is calculated\n",
        "def imogram_LM(sent):\n",
        "    prob=0\n",
        "    tmp=sent.split(' ')\n",
        "\n",
        "    for word in tmp:\n",
        "        prob=prob+get_unigram_prob(word)\n",
        "    return prob    "
      ],
      "metadata": {
        "id": "G6SgA2QVToQt"
      },
      "execution_count": null,
      "outputs": []
    },
    {
      "cell_type": "markdown",
      "source": [
        "Now we calculate unigram LM for some sentences and compare them:"
      ],
      "metadata": {
        "id": "jMb_NzlZ7Nb0"
      }
    },
    {
      "cell_type": "code",
      "source": [
        "prob1=imogram_LM(sentence1)\n",
        "prob2=imogram_LM(sentence1)"
      ],
      "metadata": {
        "id": "ZyScv2HMToT0"
      },
      "execution_count": null,
      "outputs": []
    },
    {
      "cell_type": "code",
      "source": [
        "if prob1>prob2:\n",
        "    print(prob1)\n",
        "else:\n",
        "    print(prob2)    "
      ],
      "metadata": {
        "id": "aGvDhINWToW3"
      },
      "execution_count": null,
      "outputs": []
    }
  ]
}