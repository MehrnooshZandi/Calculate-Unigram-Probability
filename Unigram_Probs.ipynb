{
  "nbformat": 4,
  "nbformat_minor": 0,
  "metadata": {
    "colab": {
      "provenance": []
    },
    "kernelspec": {
      "name": "python3",
      "display_name": "Python 3"
    },
    "language_info": {
      "name": "python"
    }
  },
  "cells": [
    {
      "cell_type": "code",
      "execution_count": null,
      "metadata": {
        "id": "7BR1IHk2CkVY"
      },
      "outputs": [],
      "source": [
        "def calc_unigram_prob(corpus):\n",
        "    word_count={}\n",
        "    total_words=0\n",
        "    for doc in corpus:\n",
        "        tmp=doc.split(' ')\n",
        "        total_words+=len(tmp)\n",
        "\n",
        "        for word in tmp:\n",
        "            if (not(word in word_count)):\n",
        "                word_count[word]=0\n",
        "            word_count[word]=word_count[word]+1\n",
        "    return word_count, total_words            "
      ]
    },
    {
      "cell_type": "markdown",
      "source": [
        "suppose Our corpus name is **Sentences**."
      ],
      "metadata": {
        "id": "l-zYHQLQEKTg"
      }
    },
    {
      "cell_type": "code",
      "source": [
        "word_count, total_words=calc_unigram_prob(Sentences)"
      ],
      "metadata": {
        "id": "h2GWXvxBEAEY"
      },
      "execution_count": null,
      "outputs": []
    },
    {
      "cell_type": "markdown",
      "source": [
        "Now We define a function that calculates probability of Unigram."
      ],
      "metadata": {
        "id": "1tmFgvf5E3mp"
      }
    },
    {
      "cell_type": "code",
      "source": [
        "def get_unigram_prob(word):\n",
        "    prob=(word_count[word]/total_words)\n",
        "    return prob"
      ],
      "metadata": {
        "id": "sHipobP8E19D"
      },
      "execution_count": null,
      "outputs": []
    },
    {
      "cell_type": "markdown",
      "source": [
        "Also We can use log for defining this function. Do You Know Why?\n",
        "\n"
      ],
      "metadata": {
        "id": "SZ2skP5pFe0w"
      }
    },
    {
      "cell_type": "code",
      "source": [
        "import math\n",
        "def get_unigram_prob(word):\n",
        "    prob= math.log(word_count[word]/total_words)\n",
        "    return prob"
      ],
      "metadata": {
        "id": "eOzv9nZCEdZr"
      },
      "execution_count": null,
      "outputs": []
    },
    {
      "cell_type": "markdown",
      "source": [
        "Now we can calculate unigram probability for words."
      ],
      "metadata": {
        "id": "xV_PL_nfF3jC"
      }
    }
  ]
}